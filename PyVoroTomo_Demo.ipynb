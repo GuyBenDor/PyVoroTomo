{
 "cells": [
  {
   "cell_type": "code",
   "execution_count": null,
   "metadata": {},
   "outputs": [],
   "source": [
    "import scipy.spatial"
   ]
  },
  {
   "cell_type": "code",
   "execution_count": null,
   "metadata": {},
   "outputs": [],
   "source": [
    "# %load voronoicells.py\n",
    "#/* -.-.-.-.-.-.-.-.-.-.-.-.-.-.-.-.-.-.-.-.\n",
    "#\n",
    "# File Name : voronoicells.py\n",
    "#\n",
    "# Purpose :\n",
    "#\n",
    "# Creation Date : 22-10-2019\n",
    "#\n",
    "# Last Modified : Tue Oct 22 16:40:08 2019\n",
    "#\n",
    "# Created By : Hongjian Fang: hfang@mit.edu \n",
    "#\n",
    "#_._._._._._._._._._._._._._._._._._._._._.*/\n",
    "\n",
    "\n",
    "def voronoicells(latmin=0,latmax=10,lonmin=0,lonmax=10,\\\n",
    "        depmin=0,depmax=30, ncell = 300):\n",
    "\n",
    "    pos = np.zeros((ncell,3))\n",
    "    #print(iset)\n",
    "    phi = np.random.rand(ncell,)*(latmax-latmin)+latmin\n",
    "    phi = np.pi/2-np.deg2rad(phi)\n",
    "    theta = np.random.rand(ncell,)*(lonmax-lonmin)+lonmin\n",
    "    theta = np.deg2rad(theta)\n",
    "    rad = 6371.0-depmax+np.random.rand(ncell,)*(depmax-depmin)\n",
    "\n",
    "    xpts = rad*np.sin(phi)*np.cos(theta)\n",
    "    ypts = rad*np.sin(phi)*np.sin(theta)\n",
    "    zpts = rad*np.cos(phi)\n",
    "    pos[:,0] = xpts\n",
    "    pos[:,1] = ypts \n",
    "    pos[:,2] = zpts \n",
    "    tri = Delaunay(pos)\n",
    "    neiList=defaultdict(list)\n",
    "    for p in tri.vertices:\n",
    "        for i,j in itertools.combinations(p,2):\n",
    "            neiList[i+1].append(j+1)\n",
    "            neiList[j+1].append(i+1)\n",
    "    for p in range(1,1+len(pos)):\n",
    "        neiList[0].append(p)\n",
    "    neiList[0] = np.unique(neiList[0])\n",
    "    for p in range(1,len(pos)+1):\n",
    "        neiList[p].append(p)\n",
    "        neiList[p] = np.unique(neiList[p])\n",
    "    return pos,neiList\n"
   ]
  },
  {
   "cell_type": "code",
   "execution_count": null,
   "metadata": {},
   "outputs": [],
   "source": [
    "# %load PyVoroTomo.py\n",
    "#/* -.-.-.-.-.-.-.-.-.-.-.-.-.-.-.-.-.-.-.-.\n",
    "#\n",
    "# File Name : PyVoroTomo.py\n",
    "#\n",
    "# Purpose : Random projections based seismic tomography using PyKonal\n",
    "#\n",
    "# Creation Date : 22-10-2019\n",
    "#\n",
    "# Last Modified : Tue Oct 22 16:40:23 2019\n",
    "#\n",
    "# Created By : Hongjian Fang: hfang@mit.edu \n",
    "#\n",
    "#_._._._._._._._._._._._._._._._._._._._._.*/\n",
    "\n",
    "import yaml\n",
    "from collections import defaultdict\n",
    "import itertools\n",
    "from scipy.spatial import Delaunay\n",
    "from scipy.sparse import coo_matrix\n",
    "from scipy.sparse.linalg import lsmr\n",
    "# from voronoicells import voronoicells\n",
    "import sys\n",
    "import pandas as pd\n",
    "import numpy as np\n",
    "\n",
    "# read input file\n",
    "# if len(sys.argv) == 1:\n",
    "parafile = 'PyVoroTomo.in'\n",
    "# else:\n",
    "#     parafile = str(sys.argv[1])\n",
    "\n",
    "with open(parafile,'r') as fin:\n",
    "    par = yaml.load(fin,Loader=yaml.FullLoader)\n",
    "\n",
    "#hvratio = par['hvratio']\n",
    "latmin = par['latmin']\n",
    "nlat = par['nlat']\n",
    "dlat = par['dlat']\n",
    "lonmin = par['lonmin']\n",
    "nlon = par['nlon']\n",
    "dlon = par['dlon']\n",
    "depmin = par['radmin']\n",
    "nrad = par['nrad']\n",
    "drad = par['drad']\n",
    "damp = par['damp']\n",
    "datafile = par['datafile']\n",
    "ncell = par['ncell']\n",
    "nsets = par['nsets']\n",
    "\n",
    "# inversion\n",
    "## constructing projection matrix\n",
    "latmax = latmin+nlat*dlat\n",
    "lonmax = lonmin+nlon*dlon\n",
    "depmax = depmin+nrad*drad\n",
    "cellpos, nearcells = voronoicells(latmin=latmin,latmax=latmax,lonmin=lonmin,\\\n",
    "        lonmax=lonmax, depmin=depmin,depmax=depmax, ncell = ncell)"
   ]
  },
  {
   "cell_type": "code",
   "execution_count": null,
   "metadata": {},
   "outputs": [],
   "source": [
    "hvratio = 1.0\n",
    "mdim = (nlat+1)*(nlon+1)*(nrad+1)\n",
    "latgrid = np.linspace(latmin,latmax,nlat+1)\n",
    "longrid = np.linspace(lonmin,lonmax,nlon+1)\n",
    "depgrid = np.linspace(depmin,depmax,nrad+1)\n",
    "\n",
    "latgrid = np.pi/2-np.deg2rad(latgrid)\n",
    "longrid = np.deg2rad(longrid)\n",
    "depgrid = 6371.0-depgrid\n",
    "\n",
    "colid = np.zeros(mdim,dtype=int)\n",
    "rowid = np.zeros(mdim,dtype=int)\n",
    "\n",
    "idxt = 1\n",
    "gpidx = 0\n",
    "for kk in range(nrad+1):\n",
    "    for jj in range(nlon+1):\n",
    "        for ii in range(nlat+1):\n",
    "            xpts = depgrid[kk]*np.sin(latgrid[ii])*np.cos(longrid[jj])\n",
    "            ypts = depgrid[kk]*np.sin(latgrid[ii])*np.sin(longrid[jj])\n",
    "            zpts = depgrid[kk]*np.cos(latgrid[ii])\n",
    "#             idx = int(idxt*np.sign(ii)) \n",
    "            idx = 0\n",
    "            findpts = nearcells[idx]-1\n",
    "            dis = (xpts-cellpos[findpts,0])**2+(ypts-cellpos[findpts,1])**2+\\\n",
    "                    (hvratio*(zpts-cellpos[findpts,2]))**2\n",
    "            midx = np.argmin(dis)\n",
    "            colid[gpidx] = findpts[midx]\n",
    "            idxt = nearcells[idx][midx]\n",
    "            rowid[gpidx] = gpidx\n",
    "            gpidx += 1\n",
    "Gp = coo_matrix((np.ones(mdim,),(rowid,colid)),shape=(mdim,ncell))"
   ]
  },
  {
   "cell_type": "code",
   "execution_count": null,
   "metadata": {},
   "outputs": [],
   "source": [
    "# # read data\n",
    "datafile = 'testpykonal.h5'\n",
    "data = pd.HDFStore(datafile)\n",
    "srcs = data['origin']\n",
    "arrs = data['arr']\n",
    "rcs = data['stations']\n",
    "\n",
    "# # selecting subsets of data\n",
    "# ## come back here later for selecting based on spatial locations, i.e. downweight those inside event or station clusters\n",
    "arrs = arrs[arrs['phase']=='P']\n",
    "# src_sub = srcs.sample(n=1000)\n",
    "src_sub = srcs\n",
    "arrs_sub = arrs[arrs['event_id'].isin(src_sub['event_id'])].reset_index()"
   ]
  },
  {
   "cell_type": "markdown",
   "metadata": {},
   "source": [
    "# need to figure out the direction in pykonal, lat: north--> south, lon: west ---> east, rad: surface <-- center?"
   ]
  },
  {
   "cell_type": "code",
   "execution_count": null,
   "metadata": {},
   "outputs": [],
   "source": [
    "\n",
    "df0 = pd.DataFrame()\n",
    "# latgrid = np.linspace(latmin,latmax,nlat+1)\n",
    "# longrid = np.linspace(lonmin,lonmax,nlon+1)\n",
    "# depgrid = np.linspace(depmin,depmax,nrad+1)\n",
    "latgrid = np.linspace(latmax,latmin,nlat+1)\n",
    "longrid = np.linspace(lonmin,lonmax,nlon+1)\n",
    "depgrid = np.linspace(depmax,depmin,nrad+1)\n",
    "lon1,lat1 = np.meshgrid(longrid,latgrid)\n",
    "\n",
    "for idep in range(nrad+1):\n",
    "    vs = 6.0*np.ones((nlat+1)*(nlon+1),)\n",
    "    df = pd.DataFrame(vs,columns=('vs',))\n",
    "    df['theta'] = np.pi/2-np.deg2rad(lat1.flatten())\n",
    "    df['phi'] = np.deg2rad(lon1.flatten())\n",
    "    df['rho'] = 6371-depgrid[idep]\n",
    "    df0 = df0.append(df, ignore_index=True)\n",
    "\n",
    "nrho, ntheta, nphi = len(df0['rho'].unique()), len(df0['theta'].unique()), len(df0['phi'].unique())\n",
    "drho               = np.mean(np.diff(df0['rho'].unique()))\n",
    "dtheta             = np.mean(np.diff(df0['theta'].unique()))\n",
    "dphi               = np.mean(np.diff(df0['phi'].unique()))\n",
    "rho0               = df0['rho'].min()\n",
    "theta0             = df0['theta'].min()\n",
    "phi0               = df0['phi'].min()\n",
    "vel = df0['vs'].values.reshape((nrho, ntheta, nphi))\n",
    "\n",
    "np.savez_compressed(\n",
    "    'socalini.npz',\n",
    "    vel=vel,\n",
    "    min_coords=np.array([rho0, theta0, phi0]),\n",
    "    node_intervals=np.array([drho, dtheta, dphi]),\n",
    "    npts=np.array([nrho, ntheta, nphi])\n",
    ")"
   ]
  },
  {
   "cell_type": "code",
   "execution_count": null,
   "metadata": {},
   "outputs": [],
   "source": [
    "import pykonal\n",
    "\n",
    "npz = np.load('socalini.npz')\n",
    "\n",
    "def init_farfield():\n",
    "    far_field                      = pykonal.EikonalSolver(coord_sys='spherical')\n",
    "    far_field.vgrid.min_coords     = npz['min_coords']\n",
    "    far_field.vgrid.node_intervals = npz['node_intervals']\n",
    "    far_field.vgrid.npts           = npz['npts']\n",
    "    far_field.vv                   = npz['vel']\n",
    "    return (far_field)\n",
    "\n"
   ]
  },
  {
   "cell_type": "code",
   "execution_count": null,
   "metadata": {},
   "outputs": [],
   "source": [
    "dfs = arrs_sub.merge(\n",
    "    srcs,\n",
    "    on='event_id',\n",
    "    suffixes=('_arrival','_origin')\n",
    ").merge(\n",
    "    rcs,\n",
    "    on=('net','sta'),\n",
    "    suffixes=('_evt','_sta')\n",
    ")\n",
    "dfs['travel_time'] = dfs['time_arrival'] - dfs['time_origin']\n",
    "dfs['travel_time'] = dfs['travel_time'].dt.total_seconds()"
   ]
  },
  {
   "cell_type": "code",
   "execution_count": null,
   "metadata": {},
   "outputs": [],
   "source": [
    "def geo2sph(lat, lon,depth):\n",
    "    return(\n",
    "        6371 - depth,\n",
    "        np.pi/2 - np.radians(lat),\n",
    "        np.radians(lon)\n",
    "    )"
   ]
  },
  {
   "cell_type": "code",
   "execution_count": null,
   "metadata": {},
   "outputs": [],
   "source": [
    "## decide whether to treat receivers as sources. Prefered if nrc << nsrc\n",
    "dfs['station_id'] = dfs['net'].astype(str)+'_'+dfs['sta'].astype(str)\n",
    "dfs = dfs.set_index('station_id')\n",
    "rcs = dfs.index.unique()"
   ]
  },
  {
   "cell_type": "code",
   "execution_count": null,
   "metadata": {},
   "outputs": [],
   "source": [
    "syndata = []\n",
    "colidp = []\n",
    "rowidp = []\n",
    "nonzerop = []\n",
    "dobs = []\n",
    "step_size = 0.5/111.19\n",
    "ridx = 0\n",
    "for irc in rcs[5:]:\n",
    "    print(ridx,len(rcs),irc,end='\\r')\n",
    "    arr4rc = dfs.loc[irc]\n",
    "    lat0 = arr4rc['lat_sta'].iloc[0]\n",
    "    lon0 = arr4rc['lon_sta'].iloc[0]\n",
    "    depth0 = arr4rc['elev'].iloc[0]\n",
    "    rho0   = 6371. - depth0\n",
    "    theta0 = np.pi/2 - np.radians(lat0)\n",
    "    phi0   = np.radians(lon0)\n",
    "    \n",
    "    far_field = init_farfield()\n",
    "    # near_field should depend on different srcs, pay attention to the boudaries\n",
    "    near_field                      = pykonal.EikonalSolver(coord_sys='spherical')\n",
    "    # near_field.vgrid.min_coords     = npz['node_intervals'][0] / 5, 0, 0\n",
    "    near_interv = npz['node_intervals'] / 5\n",
    "#     near_field.vgrid.min_coords     = rho0-5*near_interv[0], theta0-5*near_interv[1], phi0-5*near_interv[2]\n",
    "    near_field.vgrid.min_coords     = near_interv[0], 0, 0\n",
    "    near_field.vgrid.node_intervals = near_interv[0], np.pi/20, np.pi/20\n",
    "    near_field.vgrid.npts           = 10, 21, 40\n",
    "    \n",
    "    # don't quite understand here...\n",
    "    near_field.transfer_velocity_from(far_field, (rho0, theta0, phi0))\n",
    "    vvi = pykonal.LinearInterpolator3D(near_field.vgrid, near_field.vv)\n",
    "\n",
    "    for it in range(near_field.pgrid.npts[1]):\n",
    "        for ip in range(near_field.pgrid.npts[2]):\n",
    "            idx = (0, it, ip)\n",
    "            near_field.uu[idx]     = near_field.pgrid[idx + (0,)] / vvi(near_field.pgrid[idx])\n",
    "            near_field.is_far[idx] = False\n",
    "            near_field.close.push(*idx)\n",
    "\n",
    "    near_field.solve()\n",
    "    far_field.transfer_travel_times_from(near_field, (-rho0, theta0, phi0), set_alive=True)\n",
    "    break\n",
    "    far_field.solve()\n",
    "    uui = lambda lat, lon, depth: \\\n",
    "    pykonal.LinearInterpolator3D(far_field.pgrid, far_field.uu)(geo2sph(lat, lon,depth))\n",
    "    \n",
    "    for isrc in range(len(arr4rc)):\n",
    "        print(isrc)\n",
    "        try:\n",
    "            syndata = uui(arr4rc['lat_evt'].iloc[isrc],arr4rc['lon_evt'].iloc[isrc],arr4rc['depth'].iloc[isrc])\n",
    "            src_pos = geo2sph(arr4rc['lat_evt'].iloc[isrc],arr4rc['lon_evt'].iloc[isrc],arr4rc['depth'].iloc[isrc])\n",
    "            ray = far_field.trace_ray(src_pos)\n",
    "            ray = pd.DataFrame(ray,columns=('rho','theta','phi'))\n",
    "            ray = findrayidx(ray)\n",
    "            ray = ray.groupby('cellidx').count()\n",
    "            for iseg in range(len(ray)):\n",
    "                colidp.append(ray.index.values[iseg])\n",
    "                rowidp.append(ridx)\n",
    "                nonzerop.append(far_field._get_step_size()*ray['rho'].iloc[iseg])\n",
    "                dobs.append(arr4rc['travel_time'].iloc[isrc]-syndata)\n",
    "                ridx += 1\n",
    "        except Exception as err:\n",
    "            print('ERROR', err)\n",
    "            syndata = np.nan\n",
    "    break"
   ]
  },
  {
   "cell_type": "code",
   "execution_count": null,
   "metadata": {},
   "outputs": [],
   "source": [
    "pgrid_new = far_field.pgrid.map_to(near_field.coord_sys, (-rho0, theta0, phi0))\n",
    "pgrid_new[...,2] = np.mod(pgrid_new[...,2], 2*np.pi)"
   ]
  },
  {
   "cell_type": "code",
   "execution_count": null,
   "metadata": {},
   "outputs": [],
   "source": [
    "print(\n",
    "    np.argwhere(\n",
    "#            (pgrid_new[...,0] > near_field.pgrid.min_coords[0])\n",
    "          &(pgrid_new[...,0] < near_field.pgrid.max_coords[0])\n",
    "    #       &(pgrid_new[...,1] > near_field.pgrid.min_coords[1])\n",
    "    #       &(pgrid_new[...,1] < near_field.pgrid.max_coords[1])\n",
    "    #       &(pgrid_new[...,2] > near_field.pgrid.min_coords[2])                \n",
    "    #       &(                     \n",
    "    #            (pgrid_new[...,2] < near_field.pgrid.max_coords[2])\n",
    "    #           |(near_field.pgrid.is_periodic[2])\n",
    "    #       )\n",
    "  )\n",
    ")"
   ]
  },
  {
   "cell_type": "code",
   "execution_count": null,
   "metadata": {},
   "outputs": [],
   "source": [
    "near_field.pgrid.min_coords, near_field.pgrid.max_coords"
   ]
  },
  {
   "cell_type": "code",
   "execution_count": null,
   "metadata": {},
   "outputs": [],
   "source": [
    "rho0, theta0, phi0"
   ]
  },
  {
   "cell_type": "code",
   "execution_count": null,
   "metadata": {},
   "outputs": [],
   "source": [
    "far_field.pgrid.min_coords, far_field.pgrid.max_coords"
   ]
  },
  {
   "cell_type": "code",
   "execution_count": null,
   "metadata": {},
   "outputs": [],
   "source": [
    "far_field.pgrid"
   ]
  },
  {
   "cell_type": "code",
   "execution_count": null,
   "metadata": {},
   "outputs": [],
   "source": [
    "ray['cellidx'] = colid"
   ]
  },
  {
   "cell_type": "code",
   "execution_count": null,
   "metadata": {},
   "outputs": [],
   "source": [
    "ray.groupby('cellidx').count()"
   ]
  },
  {
   "cell_type": "code",
   "execution_count": null,
   "metadata": {},
   "outputs": [],
   "source": [
    "G = coo_matrix((nonzerop,(rowidp,colidp)),shape=(ridx,ncell))\n",
    "\n",
    "atol = 1e-3\n",
    "btol = 1e-4\n",
    "maxiter = 100\n",
    "conlim = 50\n",
    "\n",
    "x = lsmr(G,dobs,damp,atol,btol,conlim,maxiter,show=False)\n",
    "x = x[0]\n",
    "vel = Gp*x\n",
    "\n",
    "# output velocity model and locaitons\n",
    "vel3d = vel.reshape(nrad+1,nlon+1,nlat+1)\n",
    "\n",
    "# if __name__ == '__main__':\n",
    "#     main()"
   ]
  },
  {
   "cell_type": "code",
   "execution_count": null,
   "metadata": {},
   "outputs": [],
   "source": [
    "plt.imshow(vel3d[3,:,:].T,cmap='jet')"
   ]
  },
  {
   "cell_type": "code",
   "execution_count": null,
   "metadata": {},
   "outputs": [],
   "source": [
    "arr4rc.head()"
   ]
  },
  {
   "cell_type": "code",
   "execution_count": null,
   "metadata": {},
   "outputs": [],
   "source": [
    "arr4rc['lat_evt'].iloc[isrc],arr4rc['lon_evt'].iloc[isrc],arr4rc['depth'].iloc[isrc]"
   ]
  },
  {
   "cell_type": "code",
   "execution_count": null,
   "metadata": {},
   "outputs": [],
   "source": [
    "uui(arr4rc['lat_evt'].iloc[isrc],arr4rc['lon_evt'].iloc[isrc],arr4rc['depth'].iloc[isrc])"
   ]
  },
  {
   "cell_type": "code",
   "execution_count": null,
   "metadata": {},
   "outputs": [],
   "source": [
    "findrayidx(ray)"
   ]
  },
  {
   "cell_type": "code",
   "execution_count": null,
   "metadata": {},
   "outputs": [],
   "source": [
    "def findrayidx(ray):\n",
    "        idxt = 1\n",
    "        colid = []\n",
    "        for ii in range(len(ray)):\n",
    "            xpts = ray.iloc[ii]['rho']*np.sin(ray.iloc[ii]['theta'])*np.cos(ray.iloc[ii]['phi'])\n",
    "            ypts = ray.iloc[ii]['rho']*np.sin(ray.iloc[ii]['theta'])*np.sin(ray.iloc[ii]['phi'])\n",
    "            zpts = ray.iloc[ii]['rho']*np.cos(ray.iloc[ii]['theta'])\n",
    "#             idx = int(idxt*np.sign(ii)) \n",
    "            idx = 0\n",
    "            findpts = nearcells[idx]-1\n",
    "            dis = (xpts-cellpos[findpts,0])**2+(ypts-cellpos[findpts,1])**2+\\\n",
    "                    (hvratio*(zpts-cellpos[findpts,2]))**2\n",
    "            midx = np.argmin(dis)\n",
    "            colid.append(findpts[midx])\n",
    "            idxt = nearcells[idx][midx]\n",
    "#             rowid[gpidx] = gpidx\n",
    "#             gpidx += 1\n",
    "        return colid\n",
    "    "
   ]
  },
  {
   "cell_type": "code",
   "execution_count": null,
   "metadata": {},
   "outputs": [],
   "source": [
    "def findrayidx(ray):\n",
    "        idxt = 1\n",
    "        colid = []\n",
    "        ray['x'] = ray['rho'] * np.sin(ray['theta']) * np.cos(ray['phi'])\n",
    "        ray['y'] = ray['rho'] * np.sin(ray['theta']) * np.sin(ray['phi'])\n",
    "        ray['z'] = ray['rho'] * np.cos(ray['theta'])\n",
    "        dist = scipy.spatial.distance.cdist(ray[['x', 'y', 'z']].values, cellpos)\n",
    "        argmin = np.argmin(dist, axis=1)\n",
    "        ray['cellidx'] = argmin\n",
    "        return (ray)"
   ]
  },
  {
   "cell_type": "code",
   "execution_count": null,
   "metadata": {},
   "outputs": [],
   "source": []
  },
  {
   "cell_type": "code",
   "execution_count": null,
   "metadata": {},
   "outputs": [],
   "source": [
    "plt.figure(figsize=(10,10))\n",
    "plt.imshow(dws3d[4,:,:].T)"
   ]
  },
  {
   "cell_type": "code",
   "execution_count": null,
   "metadata": {},
   "outputs": [],
   "source": [
    "dws = Gp*np.arange(600)\n",
    "# plt.figure(figsize=(10,10))\n",
    "dws3d = dws.reshape(nrad+1,nlon+1,nlat+1)\n",
    "plt.imshow(dws3d[:,25,:])"
   ]
  },
  {
   "cell_type": "code",
   "execution_count": null,
   "metadata": {},
   "outputs": [],
   "source": [
    "dws = Gp*np.arange(600)\n",
    "# plt.figure(figsize=(10,10))\n",
    "dws3d = dws.reshape(nrad+1,nlon+1,nlat+1)\n",
    "plt.imshow(dws3d[:,:,12])"
   ]
  },
  {
   "cell_type": "code",
   "execution_count": null,
   "metadata": {},
   "outputs": [],
   "source": [
    "ndep,nrad"
   ]
  },
  {
   "cell_type": "code",
   "execution_count": null,
   "metadata": {},
   "outputs": [],
   "source": [
    "0.05*84/0.04"
   ]
  }
 ],
 "metadata": {
  "kernelspec": {
   "display_name": "Python [conda env:scatter]",
   "language": "python",
   "name": "conda-env-scatter-py"
  },
  "language_info": {
   "codemirror_mode": {
    "name": "ipython",
    "version": 3
   },
   "file_extension": ".py",
   "mimetype": "text/x-python",
   "name": "python",
   "nbconvert_exporter": "python",
   "pygments_lexer": "ipython3",
   "version": "3.7.3"
  }
 },
 "nbformat": 4,
 "nbformat_minor": 4
}
