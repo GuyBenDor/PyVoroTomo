{
 "cells": [
  {
   "cell_type": "code",
   "execution_count": 8,
   "metadata": {},
   "outputs": [],
   "source": [
    "import numpy as np\n",
    "import pandas as pd\n",
    "import scipy.spatial"
   ]
  },
  {
   "cell_type": "code",
   "execution_count": 6,
   "metadata": {},
   "outputs": [],
   "source": [
    "ray = pd.DataFrame()\n",
    "ray['x'] = np.random.rand(10)\n",
    "ray['y'] = np.random.rand(10)\n",
    "ray['z'] = np.random.rand(10)\n",
    "\n",
    "cells   = pd.DataFrame()\n",
    "cells['x'] = np.random.rand(20)\n",
    "cells['y'] = np.random.rand(20)\n",
    "cells['z'] = np.random.rand(20)"
   ]
  },
  {
   "cell_type": "code",
   "execution_count": 13,
   "metadata": {},
   "outputs": [],
   "source": [
    "dist = scipy.spatial.distance.cdist(ray.values, cells.values)\n",
    "np.argmin(dist, axis=1)"
   ]
  },
  {
   "cell_type": "code",
   "execution_count": 18,
   "metadata": {},
   "outputs": [
    {
     "data": {
      "text/plain": [
       "array([ 0,  7, 10, 18, 10,  9, 17, 18, 14,  8])"
      ]
     },
     "execution_count": 18,
     "metadata": {},
     "output_type": "execute_result"
    }
   ],
   "source": [
    "np.argmin(dist, axis=1)"
   ]
  },
  {
   "cell_type": "code",
   "execution_count": 20,
   "metadata": {},
   "outputs": [
    {
     "data": {
      "text/plain": [
       "array([0.65288805, 0.76902449, 0.91270127, 0.80957411, 0.69887327,\n",
       "       0.73148915, 0.45074383, 0.33478806, 0.71281158, 0.73492763,\n",
       "       0.93347876, 0.80529503, 0.47506151, 0.48872034, 0.71388804,\n",
       "       0.37014497, 0.39736195, 0.5152048 , 0.41382096, 0.66012196])"
      ]
     },
     "execution_count": 20,
     "metadata": {},
     "output_type": "execute_result"
    }
   ],
   "source": [
    "dist[1]"
   ]
  },
  {
   "cell_type": "code",
   "execution_count": null,
   "metadata": {},
   "outputs": [],
   "source": []
  }
 ],
 "metadata": {
  "kernelspec": {
   "display_name": "Python [conda env:scatter]",
   "language": "python",
   "name": "conda-env-scatter-py"
  },
  "language_info": {
   "codemirror_mode": {
    "name": "ipython",
    "version": 3
   },
   "file_extension": ".py",
   "mimetype": "text/x-python",
   "name": "python",
   "nbconvert_exporter": "python",
   "pygments_lexer": "ipython3",
   "version": "3.7.3"
  }
 },
 "nbformat": 4,
 "nbformat_minor": 4
}
